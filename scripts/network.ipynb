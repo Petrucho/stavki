{
 "cells": [
  {
   "cell_type": "code",
   "execution_count": 14,
   "id": "2890e50c-2589-41ee-b618-43171e900f53",
   "metadata": {},
   "outputs": [],
   "source": [
    "import pandas as pd\n",
    "import networkx as nx\n",
    "from pyvis.network import Network"
   ]
  },
  {
   "cell_type": "code",
   "execution_count": 15,
   "id": "8f24b261-64ff-41cc-af55-759b695414dc",
   "metadata": {},
   "outputs": [],
   "source": [
    "df = pd.read_csv('DS_bootcamp/stavki/data/teams.csv')"
   ]
  },
  {
   "cell_type": "code",
   "execution_count": 16,
   "id": "7f4bf18b-e828-4f7d-b6f8-914900f7d137",
   "metadata": {},
   "outputs": [],
   "source": [
    "G = nx.from_pandas_edgelist(df, source='Team_1', target='Team_2')"
   ]
  },
  {
   "cell_type": "code",
   "execution_count": 20,
   "id": "c1b62aba-6b0a-4e5c-8d84-0a9c106d63d5",
   "metadata": {},
   "outputs": [
    {
     "name": "stdout",
     "output_type": "stream",
     "text": [
      "Local cdn resources have problems on chrome/safari when used in jupyter-notebook. \n"
     ]
    }
   ],
   "source": [
    "net = Network(notebook=True, directed=True)\n",
    "net.from_nx(G)"
   ]
  },
  {
   "cell_type": "code",
   "execution_count": 21,
   "id": "b29252d2-d8f9-420c-85a2-a81b7f15cf50",
   "metadata": {},
   "outputs": [
    {
     "data": {
      "text/html": [
       "\n",
       "        <iframe\n",
       "            width=\"100%\"\n",
       "            height=\"600px\"\n",
       "            src=\"example.html\"\n",
       "            frameborder=\"0\"\n",
       "            allowfullscreen\n",
       "            \n",
       "        ></iframe>\n",
       "        "
      ],
      "text/plain": [
       "<IPython.lib.display.IFrame at 0x127831c60>"
      ]
     },
     "execution_count": 21,
     "metadata": {},
     "output_type": "execute_result"
    }
   ],
   "source": [
    "net.show('example.html')"
   ]
  },
  {
   "cell_type": "code",
   "execution_count": null,
   "id": "72618710-c07e-49c5-a5ec-31df223d5475",
   "metadata": {},
   "outputs": [],
   "source": []
  }
 ],
 "metadata": {
  "kernelspec": {
   "display_name": "Python 3 (ipykernel)",
   "language": "python",
   "name": "python3"
  },
  "language_info": {
   "codemirror_mode": {
    "name": "ipython",
    "version": 3
   },
   "file_extension": ".py",
   "mimetype": "text/x-python",
   "name": "python",
   "nbconvert_exporter": "python",
   "pygments_lexer": "ipython3",
   "version": "3.10.6"
  }
 },
 "nbformat": 4,
 "nbformat_minor": 5
}
